{
  "metadata": {
    "kernelspec": {
      "name": "xpython",
      "display_name": "Python 3.13 (XPython)",
      "language": "python"
    },
    "language_info": {
      "file_extension": ".py",
      "mimetype": "text/x-python",
      "name": "python",
      "version": "3.13.1"
    }
  },
  "nbformat_minor": 5,
  "nbformat": 4,
  "cells": [
    {
      "id": "a83abfec-0c02-4686-be5f-38357ba62d13",
      "cell_type": "markdown",
      "source": "# Data Science Tools and Ecosystem",
      "metadata": {}
    },
    {
      "id": "28709406-fc32-4d0d-adc0-012901ff48b9",
      "cell_type": "markdown",
      "source": "In this notebook, Data Science Tools and Ecosystem are summarized.",
      "metadata": {}
    },
    {
      "id": "759b73dd-f722-42cd-abd3-7860575f60c0",
      "cell_type": "markdown",
      "source": "**Objectives:**\n- List popular languages for Data Science\n- List popular environment for data science coding\n- List commonly used packages for data science projects\n",
      "metadata": {}
    },
    {
      "id": "9a6a3c25-130f-4379-9f05-d28ecb9aa03f",
      "cell_type": "code",
      "source": "",
      "metadata": {
        "trusted": true
      },
      "outputs": [],
      "execution_count": null
    },
    {
      "id": "fc4be026-43f3-4088-adea-52727018ea37",
      "cell_type": "markdown",
      "source": "Some of the popular languages that Data Scientists use are:\n1. Python\n2. R\n3. SQL\n4. Julia\n",
      "metadata": {}
    },
    {
      "id": "fd8c241e-549b-48c7-ab84-fe6ad74a65cb",
      "cell_type": "markdown",
      "source": "Some of the commonly used libraries used by Data Scientists include:\n1. pandas\n2. scikit-learn\n3. NumPy\n4. Matplotlib\n5. Seaborn",
      "metadata": {}
    },
    {
      "id": "11688b68-4c9d-4a01-abda-fff3d4a5eea3",
      "cell_type": "markdown",
      "source": "| Data Science Tools |\n|--------------------|\n| JupyterLab         |\n| RStudio            |\n| VS Code            |",
      "metadata": {}
    },
    {
      "id": "f6dbad84-9671-4269-9a5e-c0956ccda28a",
      "cell_type": "markdown",
      "source": "### Below are a few examples of evaluating arithmetic expressions in Python.\n- Addition: +\n- Subtraction: -\n- Multiplication: *\n- Division: /\n- Exponentiation: **\n- Modulo (remainder): %\n- Floor division: //",
      "metadata": {}
    },
    {
      "id": "583c05f2-33ba-492d-b557-019d658cb1a4",
      "cell_type": "markdown",
      "source": "This a simple arithmetic expression to mutiply then add integers",
      "metadata": {}
    },
    {
      "id": "7548c6da-a7c6-4593-ae37-6430833653cc",
      "cell_type": "code",
      "source": "(3*4)+5",
      "metadata": {
        "trusted": true
      },
      "outputs": [
        {
          "execution_count": 2,
          "output_type": "execute_result",
          "data": {
            "text/plain": "17"
          },
          "metadata": {}
        }
      ],
      "execution_count": 2
    },
    {
      "id": "251537cc-377b-4875-b148-4577457ec36b",
      "cell_type": "markdown",
      "source": "This will convert 200 minutes to hours by diving by 60.",
      "metadata": {}
    },
    {
      "id": "5b7276bb-c36d-4a5b-8549-b9172c6f7d6d",
      "cell_type": "code",
      "source": "200/60",
      "metadata": {
        "trusted": true
      },
      "outputs": [
        {
          "execution_count": 3,
          "output_type": "execute_result",
          "data": {
            "text/plain": "3.3333333333333335"
          },
          "metadata": {}
        }
      ],
      "execution_count": 3
    },
    {
      "id": "5a2d7e02-0a30-4662-ae3e-9ef764ac28f7",
      "cell_type": "code",
      "source": "",
      "metadata": {
        "trusted": true
      },
      "outputs": [],
      "execution_count": null
    }
  ]
}